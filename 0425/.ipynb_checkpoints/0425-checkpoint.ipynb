{
 "cells": [
  {
   "cell_type": "markdown",
   "metadata": {},
   "source": [
    "## Slicing 에서 index 범위 주는 또 다른 방법"
   ]
  },
  {
   "cell_type": "markdown",
   "metadata": {},
   "source": [
    "- `from_idx:to_idx`\n",
    "- `from_idx:to_idx:step`\n",
    "- 그런데, `from_idx`, `to_idx`, `step`을 생략 할 수 있다!\n",
    "    - 1) `from_idx` 를 생략하는 경우: `from_idx` 가 0으로 알아서 설정됨\n",
    "    - 2) `to_idx`를 생략하는 경우: `to_idx`가 마지막 인덱스로 알아서 설정됨\n",
    "    - 3) `step`을 생략하는 경우: `step`이 1로 알아서 설정됨"
   ]
  },
  {
   "cell_type": "code",
   "execution_count": 16,
   "metadata": {},
   "outputs": [],
   "source": [
    "lst = ['a', 'b', 'c', 'd', 'e'] "
   ]
  },
  {
   "cell_type": "code",
   "execution_count": 17,
   "metadata": {},
   "outputs": [
    {
     "data": {
      "text/plain": [
       "['a', 'b']"
      ]
     },
     "execution_count": 17,
     "metadata": {},
     "output_type": "execute_result"
    }
   ],
   "source": [
    "lst[:2]"
   ]
  },
  {
   "cell_type": "code",
   "execution_count": 18,
   "metadata": {},
   "outputs": [
    {
     "data": {
      "text/plain": [
       "['c', 'd', 'e']"
      ]
     },
     "execution_count": 18,
     "metadata": {},
     "output_type": "execute_result"
    }
   ],
   "source": [
    "lst[2:]"
   ]
  },
  {
   "cell_type": "code",
   "execution_count": 19,
   "metadata": {},
   "outputs": [
    {
     "data": {
      "text/plain": [
       "['a', 'b', 'c', 'd', 'e']"
      ]
     },
     "execution_count": 19,
     "metadata": {},
     "output_type": "execute_result"
    }
   ],
   "source": [
    "# copy\n",
    "lst[:]"
   ]
  },
  {
   "cell_type": "code",
   "execution_count": 20,
   "metadata": {},
   "outputs": [
    {
     "data": {
      "text/plain": [
       "['e', 'd', 'c', 'b', 'a']"
      ]
     },
     "execution_count": 20,
     "metadata": {},
     "output_type": "execute_result"
    }
   ],
   "source": [
    "# reverse\n",
    "lst[::-1]"
   ]
  },
  {
   "cell_type": "code",
   "execution_count": 21,
   "metadata": {},
   "outputs": [
    {
     "data": {
      "text/plain": [
       "['e', 'c', 'a']"
      ]
     },
     "execution_count": 21,
     "metadata": {},
     "output_type": "execute_result"
    }
   ],
   "source": [
    "lst[::-2]"
   ]
  },
  {
   "cell_type": "markdown",
   "metadata": {},
   "source": [
    "## Tuple"
   ]
  },
  {
   "cell_type": "markdown",
   "metadata": {},
   "source": [
    "- `(1, 2, 3)`\n",
    "- list vs tuple - tuple 은 read 만 가능. write 불가능"
   ]
  },
  {
   "cell_type": "code",
   "execution_count": 22,
   "metadata": {},
   "outputs": [],
   "source": [
    "lst = [1, 2, 3]\n",
    "tp = (1, 2, 3)"
   ]
  },
  {
   "cell_type": "code",
   "execution_count": 27,
   "metadata": {},
   "outputs": [
    {
     "data": {
      "text/plain": [
       "2"
      ]
     },
     "execution_count": 27,
     "metadata": {},
     "output_type": "execute_result"
    }
   ],
   "source": [
    "# List 는 read/write 모두 가능\n",
    "\n",
    "# Read: (읽기)\n",
    "lst[0] + 2"
   ]
  },
  {
   "cell_type": "code",
   "execution_count": 26,
   "metadata": {},
   "outputs": [
    {
     "data": {
      "text/plain": [
       "[0, 2, 3]"
      ]
     },
     "execution_count": 26,
     "metadata": {},
     "output_type": "execute_result"
    }
   ],
   "source": [
    "# write: (수정)\n",
    "lst[0] = 0\n",
    "lst"
   ]
  },
  {
   "cell_type": "code",
   "execution_count": 28,
   "metadata": {},
   "outputs": [
    {
     "data": {
      "text/plain": [
       "2"
      ]
     },
     "execution_count": 28,
     "metadata": {},
     "output_type": "execute_result"
    }
   ],
   "source": [
    "# Tuple 은 read 만 가능 (write 는 불가능)\n",
    "tp = (1, 2, 3)\n",
    "\n",
    "# read 예시: indexing\n",
    "tp[1]"
   ]
  },
  {
   "cell_type": "code",
   "execution_count": 29,
   "metadata": {},
   "outputs": [
    {
     "ename": "TypeError",
     "evalue": "'tuple' object does not support item assignment",
     "output_type": "error",
     "traceback": [
      "\u001b[0;31m---------------------------------------------------------------------------\u001b[0m",
      "\u001b[0;31mTypeError\u001b[0m                                 Traceback (most recent call last)",
      "\u001b[0;32m<ipython-input-29-d8e81ee7a96b>\u001b[0m in \u001b[0;36m<module>\u001b[0;34m\u001b[0m\n\u001b[1;32m      1\u001b[0m \u001b[0;31m# write\u001b[0m\u001b[0;34m\u001b[0m\u001b[0;34m\u001b[0m\u001b[0;34m\u001b[0m\u001b[0m\n\u001b[0;32m----> 2\u001b[0;31m \u001b[0mtp\u001b[0m\u001b[0;34m[\u001b[0m\u001b[0;36m1\u001b[0m\u001b[0;34m]\u001b[0m \u001b[0;34m=\u001b[0m \u001b[0;36m4\u001b[0m\u001b[0;34m\u001b[0m\u001b[0;34m\u001b[0m\u001b[0m\n\u001b[0m",
      "\u001b[0;31mTypeError\u001b[0m: 'tuple' object does not support item assignment"
     ]
    }
   ],
   "source": [
    "# write\n",
    "tp[1] = 4"
   ]
  },
  {
   "cell_type": "markdown",
   "metadata": {},
   "source": [
    "## 형변환"
   ]
  },
  {
   "cell_type": "markdown",
   "metadata": {},
   "source": [
    "- (데이터) 형 (타입) 변환\n",
    "    - int -> str: 123 -> '123'\n",
    "    - float -> str: 123.2 -> '123.2'\n",
    "    - int -> float\n",
    "    - float -> int\n",
    "    - str -> int: '123' -> 123\n",
    "    - str -> float: '123.2' -> 123.2\n",
    "    - str -> list: \"abc\" -> `['a', 'b', 'c']`\n",
    "    - (x) list -> str: `['a', 'b', 'c']` -> \"abc\"\n",
    "- 방법\n",
    "    - x 라는 데이터의 타입을 변환시키고자 해\n",
    "    - int(x)\n",
    "    - float(x)"
   ]
  },
  {
   "cell_type": "code",
   "execution_count": 30,
   "metadata": {},
   "outputs": [
    {
     "data": {
      "text/plain": [
       "30.0"
      ]
     },
     "execution_count": 30,
     "metadata": {},
     "output_type": "execute_result"
    }
   ],
   "source": [
    "x = 30\n",
    "float(x)"
   ]
  },
  {
   "cell_type": "code",
   "execution_count": 33,
   "metadata": {},
   "outputs": [
    {
     "data": {
      "text/plain": [
       "30"
      ]
     },
     "execution_count": 33,
     "metadata": {},
     "output_type": "execute_result"
    }
   ],
   "source": [
    "y = 30.8\n",
    "int(y)"
   ]
  },
  {
   "cell_type": "code",
   "execution_count": 34,
   "metadata": {},
   "outputs": [
    {
     "data": {
      "text/plain": [
       "'30.8'"
      ]
     },
     "execution_count": 34,
     "metadata": {},
     "output_type": "execute_result"
    }
   ],
   "source": [
    "y = 30.8\n",
    "str(y)"
   ]
  },
  {
   "cell_type": "code",
   "execution_count": 35,
   "metadata": {},
   "outputs": [
    {
     "data": {
      "text/plain": [
       "'30'"
      ]
     },
     "execution_count": 35,
     "metadata": {},
     "output_type": "execute_result"
    }
   ],
   "source": [
    "x = 30\n",
    "str(x)"
   ]
  },
  {
   "cell_type": "code",
   "execution_count": 36,
   "metadata": {},
   "outputs": [
    {
     "data": {
      "text/plain": [
       "['a', 'b', 'c']"
      ]
     },
     "execution_count": 36,
     "metadata": {},
     "output_type": "execute_result"
    }
   ],
   "source": [
    "s = 'abc'\n",
    "list(s)"
   ]
  },
  {
   "cell_type": "code",
   "execution_count": 37,
   "metadata": {},
   "outputs": [
    {
     "data": {
      "text/plain": [
       "\"['a', 'b', 'c']\""
      ]
     },
     "execution_count": 37,
     "metadata": {},
     "output_type": "execute_result"
    }
   ],
   "source": [
    "lst = ['a', 'b', 'c']\n",
    "str(lst)"
   ]
  },
  {
   "cell_type": "code",
   "execution_count": 40,
   "metadata": {},
   "outputs": [
    {
     "data": {
      "text/plain": [
       "'abc'"
      ]
     },
     "execution_count": 40,
     "metadata": {},
     "output_type": "execute_result"
    }
   ],
   "source": [
    "# ['a', 'b', 'c'] -> 'abc'\n",
    "lst = ['a', 'b', 'c']\n",
    "''.join(lst)"
   ]
  },
  {
   "cell_type": "markdown",
   "metadata": {},
   "source": [
    "## String formatting"
   ]
  },
  {
   "cell_type": "markdown",
   "metadata": {},
   "source": [
    "- 내가 원하는 형식의 스트링을 만드는 행위\n",
    "- 규칙\n",
    "    - '(포맷1)(포맷2)' % (값1, 값2)\n",
    "    - 'yy/mm/dd' % (값y, 값m, 값d)\n",
    "        - '21/12/12'\n",
    "        - '21/01/12'\n",
    "    - `%d`: int format\n",
    "        - 1) 자리수 정하기\n",
    "            - %2d\n",
    "        - 2) 남는 자리수에 어떤 문자를 넣을지\n",
    "            - %?2d\n",
    "    - `%lf`: float format\n",
    "        - `%.2lf`\n",
    "        - `%.3lf`\n",
    "    - `%r`: bool format (잘 안쓰긴 함)\n",
    "    - `%s`: string format\n",
    "    "
   ]
  },
  {
   "cell_type": "code",
   "execution_count": 41,
   "metadata": {},
   "outputs": [
    {
     "data": {
      "text/plain": [
       "'234342342 입니다'"
      ]
     },
     "execution_count": 41,
     "metadata": {},
     "output_type": "execute_result"
    }
   ],
   "source": [
    "'%d 입니다' % (234342342)"
   ]
  },
  {
   "cell_type": "code",
   "execution_count": 42,
   "metadata": {},
   "outputs": [
    {
     "data": {
      "text/plain": [
       "'2021/4/25'"
      ]
     },
     "execution_count": 42,
     "metadata": {},
     "output_type": "execute_result"
    }
   ],
   "source": [
    "'%d/%d/%d' % (2021, 4, 25)"
   ]
  },
  {
   "cell_type": "code",
   "execution_count": 50,
   "metadata": {},
   "outputs": [
    {
     "data": {
      "text/plain": [
       "'2021/ 4/25'"
      ]
     },
     "execution_count": 50,
     "metadata": {},
     "output_type": "execute_result"
    }
   ],
   "source": [
    "'%d/%2d/%d' % (2021, 4, 25)"
   ]
  },
  {
   "cell_type": "code",
   "execution_count": 51,
   "metadata": {},
   "outputs": [
    {
     "data": {
      "text/plain": [
       "'2021/04/25'"
      ]
     },
     "execution_count": 51,
     "metadata": {},
     "output_type": "execute_result"
    }
   ],
   "source": [
    "'%d/%02d/%d' % (2021, 4, 25)"
   ]
  },
  {
   "cell_type": "code",
   "execution_count": 53,
   "metadata": {},
   "outputs": [
    {
     "data": {
      "text/plain": [
       "'2021/+4/25'"
      ]
     },
     "execution_count": 53,
     "metadata": {},
     "output_type": "execute_result"
    }
   ],
   "source": [
    "'%d/%+2d/%d' % (2021, 4, 25)"
   ]
  },
  {
   "cell_type": "code",
   "execution_count": 43,
   "metadata": {},
   "outputs": [
    {
     "data": {
      "text/plain": [
       "'wadu 입니다'"
      ]
     },
     "execution_count": 43,
     "metadata": {},
     "output_type": "execute_result"
    }
   ],
   "source": [
    "# 박해규 입니다\n",
    "# 박해봄 입니다\n",
    "# 박해극 입니다\n",
    "'%s 입니다' % ('wadu')"
   ]
  },
  {
   "cell_type": "code",
   "execution_count": 47,
   "metadata": {},
   "outputs": [
    {
     "data": {
      "text/plain": [
       "'True 입니다'"
      ]
     },
     "execution_count": 47,
     "metadata": {},
     "output_type": "execute_result"
    }
   ],
   "source": [
    "'%r 입니다' % (True)"
   ]
  },
  {
   "cell_type": "code",
   "execution_count": 49,
   "metadata": {},
   "outputs": [
    {
     "data": {
      "text/plain": [
       "'3.14는 파이 입니다'"
      ]
     },
     "execution_count": 49,
     "metadata": {},
     "output_type": "execute_result"
    }
   ],
   "source": [
    "# 3.14는 파이 입니다\n",
    "'%.2lf는 파이 입니다' % (3.14)"
   ]
  },
  {
   "cell_type": "code",
   "execution_count": 54,
   "metadata": {},
   "outputs": [],
   "source": [
    "s = 'wadu'\n",
    "sol = 'w a d u'"
   ]
  },
  {
   "cell_type": "code",
   "execution_count": 55,
   "metadata": {},
   "outputs": [
    {
     "data": {
      "text/plain": [
       "' 3'"
      ]
     },
     "execution_count": 55,
     "metadata": {},
     "output_type": "execute_result"
    }
   ],
   "source": [
    "'%2d' % (3)"
   ]
  },
  {
   "cell_type": "code",
   "execution_count": 60,
   "metadata": {},
   "outputs": [
    {
     "data": {
      "text/plain": [
       "'w a d u'"
      ]
     },
     "execution_count": 60,
     "metadata": {},
     "output_type": "execute_result"
    }
   ],
   "source": [
    "s = 'wadu'\n",
    "x = tuple(s)\n",
    "'%s%2s%2s%2s' % x"
   ]
  },
  {
   "cell_type": "markdown",
   "metadata": {},
   "source": [
    "## 주석"
   ]
  },
  {
   "cell_type": "markdown",
   "metadata": {},
   "source": [
    "- 주석: 코드의 설명\n",
    "- 주석은 실행은 안됨\n",
    "- 앞줄에 `#`을 붙이면 됨"
   ]
  },
  {
   "cell_type": "code",
   "execution_count": 63,
   "metadata": {},
   "outputs": [
    {
     "name": "stdout",
     "output_type": "stream",
     "text": [
      "w a d u\n"
     ]
    }
   ],
   "source": [
    "# 이 코드는 wadu의 각 레터를 띄어쓴 새로운 스트링을 만드는 코드입니다.\n",
    "\n",
    "x = 'wadu'\n",
    "tuple_wadu = tuple(x)\n",
    "print('%s%2s%2s%2s' % tuple_wadu)"
   ]
  },
  {
   "cell_type": "code",
   "execution_count": 65,
   "metadata": {},
   "outputs": [
    {
     "name": "stdout",
     "output_type": "stream",
     "text": [
      "w a d u\n"
     ]
    }
   ],
   "source": [
    "'''\n",
    "여러 라인의 주석 여러 라인의 주석 여러 라인의 주석 \n",
    "여러 라인의 주석\n",
    "여러 라인의 주석\n",
    "여러 라인의 주석\n",
    "여러 라인의 주석 여러 라인의 주석 여러 라인의 주석\n",
    "'''\n",
    "x = 'wadu'\n",
    "tuple_wadu = tuple(x)\n",
    "print('%s%2s%2s%2s' % tuple_wadu)"
   ]
  },
  {
   "cell_type": "code",
   "execution_count": 66,
   "metadata": {},
   "outputs": [
    {
     "name": "stdout",
     "output_type": "stream",
     "text": [
      "w a d u\n"
     ]
    }
   ],
   "source": [
    "\"\"\"\n",
    "여러 라인의 주석 여러 라인의 주석 여러 라인의 주석 \n",
    "여러 라인의 주석\n",
    "여러 라인의 주석\n",
    "여러 라인의 주석\n",
    "여러 라인의 주석 여러 라인의 주석 여러 라인의 주석\n",
    "\"\"\"\n",
    "x = 'wadu'\n",
    "tuple_wadu = tuple(x)\n",
    "print('%s%2s%2s%2s' % tuple_wadu)"
   ]
  },
  {
   "cell_type": "markdown",
   "metadata": {},
   "source": [
    "## If 문"
   ]
  },
  {
   "cell_type": "code",
   "execution_count": 67,
   "metadata": {},
   "outputs": [],
   "source": [
    "# 어떤 경우에는 ~를 실행, 어떤 경우에는 ~를 실행하고, ...."
   ]
  },
  {
   "cell_type": "markdown",
   "metadata": {},
   "source": [
    "- If 문 공식\n",
    "    ```\n",
    "    if 경우:\n",
    "        ㅁㄴㅇㄹㄴ\n",
    "        if 또다른 경우:\n",
    "            ㄴㅇㄹ\n",
    "            ㄴㅇㄹㄴㅇㄹ\n",
    "        ㅁㄴㅇㄹㅁㅇㄴㄹㅁㄴㅇㄹㅁ\n",
    "        asdfasdfasdf\n",
    "    ```\n",
    "- If Else문 공식\n",
    "    ```\n",
    "    if 경우:\n",
    "        ㅁㄴㅇㄹ\n",
    "        ㅁㄴㅇㄹ\n",
    "        ㅁㄴㅇㄹ\n",
    "    else:\n",
    "        sdfw\n",
    "        wer\n",
    "        sdf\n",
    "    ```\n",
    "- If elif 공식\n",
    "    ```\n",
    "    if 경우1:\n",
    "        ㄴㅇㄹㄴㅇㄹㄴㅇㄹ\n",
    "    elif 경우2:\n",
    "        ㄴㅁㄹㅇ\n",
    "    elif 경우3:\n",
    "        ㅁㅇㄴㄹ\n",
    "    elif 경우4:\n",
    "        ㄴㅇㅁㄹㅁㅇㄹ\n",
    "    else:\n",
    "        asdf해도되고 안해도 되고\n",
    "    ```"
   ]
  },
  {
   "cell_type": "code",
   "execution_count": 68,
   "metadata": {},
   "outputs": [
    {
     "name": "stdout",
     "output_type": "stream",
     "text": [
      "10\n"
     ]
    }
   ],
   "source": [
    "# x = 1210\n",
    "# 만약에 x가 11의 배수일 경우에, y 라는 변수에 10을 대입하자. \n",
    "# 그리고 y를 프린트 해보자\n",
    "\n",
    "'''\n",
    "x = 121000\n",
    "\n",
    "if (x가 11의 배수일 경우에):\n",
    "    y 라는 변수에 10을 대입하자\n",
    "    그리고 y를 프린트 해보자\n",
    "    \n",
    "if (x가 10의 배수일 경우에):\n",
    "    z 라는 변수에 20을 대입하자\n",
    "    그리고 y + z 를 프린트 해보자\n",
    "'''\n"
   ]
  },
  {
   "cell_type": "code",
   "execution_count": 70,
   "metadata": {},
   "outputs": [
    {
     "name": "stdout",
     "output_type": "stream",
     "text": [
      "6의 배수\n"
     ]
    }
   ],
   "source": [
    "'''\n",
    "x = ???\n",
    "x 가 6의 배수인 경우에 \"6의 배수\" 를 프린트하길 원해.\n",
    "'''\n",
    "\n",
    "x = 12\n",
    "if (x % 6 == 0):\n",
    "    print(\"6의 배수\")"
   ]
  },
  {
   "cell_type": "code",
   "execution_count": 73,
   "metadata": {},
   "outputs": [
    {
     "name": "stdout",
     "output_type": "stream",
     "text": [
      "1723478169 는 2의 배수가 아니다\n"
     ]
    }
   ],
   "source": [
    "x = 1723478169\n",
    "\n",
    "if (x % 2 == 0):\n",
    "\n",
    "    print('%s 는 2의 배수' % (x))\n",
    "    \n",
    "    if (x % 20 == 0):\n",
    "        print(\"20의 배수\")\n",
    "        \n",
    "else:\n",
    "    print('%s 는 2의 배수가 아니다' % (x))\n",
    "    "
   ]
  },
  {
   "cell_type": "code",
   "execution_count": 76,
   "metadata": {},
   "outputs": [
    {
     "name": "stdout",
     "output_type": "stream",
     "text": [
      "wadu\n"
     ]
    }
   ],
   "source": [
    "s = 'wadu'\n",
    "\n",
    "'''\n",
    "만약에 s에 'a' 가 포함되어 있다면 'aaa' 를 프린트해주고, \n",
    "아니면 'xxx' 를 프린트 해줘\n",
    "'''\n",
    "\n",
    "print(s)"
   ]
  },
  {
   "cell_type": "code",
   "execution_count": 79,
   "metadata": {},
   "outputs": [
    {
     "name": "stdout",
     "output_type": "stream",
     "text": [
      "nothing\n"
     ]
    }
   ],
   "source": [
    "'''\n",
    "어떤 미지수 x가 있어. \n",
    "x가 20이면 풀무원을 프린트해\n",
    "x가 10이면 아이시스를 프린트해\n",
    "'''\n",
    "\n",
    "x = 23452345234\n",
    "\n",
    "if (x == 10):\n",
    "    print('icis')\n",
    "elif (x == 20):\n",
    "    print('pulmuone')\n",
    "elif (x == 30):\n",
    "    print('flax seed')\n",
    "else:\n",
    "    print('nothing')\n",
    "        "
   ]
  },
  {
   "cell_type": "code",
   "execution_count": null,
   "metadata": {},
   "outputs": [],
   "source": []
  }
 ],
 "metadata": {
  "kernelspec": {
   "display_name": "Python 3",
   "language": "python",
   "name": "python3"
  },
  "language_info": {
   "codemirror_mode": {
    "name": "ipython",
    "version": 3
   },
   "file_extension": ".py",
   "mimetype": "text/x-python",
   "name": "python",
   "nbconvert_exporter": "python",
   "pygments_lexer": "ipython3",
   "version": "3.7.3"
  }
 },
 "nbformat": 4,
 "nbformat_minor": 4
}
